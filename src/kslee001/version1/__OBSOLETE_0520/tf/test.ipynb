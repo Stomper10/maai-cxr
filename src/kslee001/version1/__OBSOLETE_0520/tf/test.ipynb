{
 "cells": [
  {
   "cell_type": "code",
   "execution_count": null,
   "id": "1dd89f7d",
   "metadata": {},
   "outputs": [],
   "source": [
    "# https://www.kaggle.com/code/theoviel/dicom-resized-png-jpg"
   ]
  },
  {
   "cell_type": "code",
   "execution_count": 5,
   "id": "98bbe292",
   "metadata": {
    "scrolled": true
   },
   "outputs": [],
   "source": [
    "import os\n",
    "import glob\n",
    "from tqdm.auto import tqdm as tq\n",
    "import pandas as pd\n",
    "import numpy as np\n",
    "import json\n",
    "from joblib import Parallel, delayed\n",
    "\n",
    "import tensorflow as tf\n",
    "\n",
    "\n",
    "import cv2\n",
    "import gdcm\n",
    "import pydicom\n",
    "import matplotlib.pyplot as plt"
   ]
  },
  {
   "cell_type": "code",
   "execution_count": 6,
   "id": "1e078b17",
   "metadata": {},
   "outputs": [],
   "source": [
    "class CFG:\n",
    "    def __init__(self):\n",
    "        return\n",
    "\n",
    "configs = CFG()\n",
    "configs.dataset_dir = '/mnt/e/dataset/chexpert/CheXpert-v1.0'\n",
    "configs.mode = 'train'\n",
    "configs.data_dir = f\"{configs.dataset_dir}/{configs.mode}.csv\""
   ]
  },
  {
   "cell_type": "code",
   "execution_count": 21,
   "id": "852284ab",
   "metadata": {},
   "outputs": [
    {
     "data": {
      "text/html": [
       "<div>\n",
       "<style scoped>\n",
       "    .dataframe tbody tr th:only-of-type {\n",
       "        vertical-align: middle;\n",
       "    }\n",
       "\n",
       "    .dataframe tbody tr th {\n",
       "        vertical-align: top;\n",
       "    }\n",
       "\n",
       "    .dataframe thead th {\n",
       "        text-align: right;\n",
       "    }\n",
       "</style>\n",
       "<table border=\"1\" class=\"dataframe\">\n",
       "  <thead>\n",
       "    <tr style=\"text-align: right;\">\n",
       "      <th></th>\n",
       "      <th>Path</th>\n",
       "      <th>Sex</th>\n",
       "      <th>Age</th>\n",
       "      <th>Frontal/Lateral</th>\n",
       "      <th>AP/PA</th>\n",
       "      <th>No Finding</th>\n",
       "      <th>Enlarged Cardiomediastinum</th>\n",
       "      <th>Cardiomegaly</th>\n",
       "      <th>Lung Opacity</th>\n",
       "      <th>Lung Lesion</th>\n",
       "      <th>Edema</th>\n",
       "      <th>Consolidation</th>\n",
       "      <th>Pneumonia</th>\n",
       "      <th>Atelectasis</th>\n",
       "      <th>Pneumothorax</th>\n",
       "      <th>Pleural Effusion</th>\n",
       "      <th>Pleural Other</th>\n",
       "      <th>Fracture</th>\n",
       "      <th>Support Devices</th>\n",
       "    </tr>\n",
       "  </thead>\n",
       "  <tbody>\n",
       "    <tr>\n",
       "      <th>0</th>\n",
       "      <td>/mnt/e/dataset/chexpert/CheXpert-v1.0/train/pa...</td>\n",
       "      <td>Female</td>\n",
       "      <td>68</td>\n",
       "      <td>Frontal</td>\n",
       "      <td>AP</td>\n",
       "      <td>1.0</td>\n",
       "      <td>NaN</td>\n",
       "      <td>NaN</td>\n",
       "      <td>NaN</td>\n",
       "      <td>NaN</td>\n",
       "      <td>NaN</td>\n",
       "      <td>NaN</td>\n",
       "      <td>NaN</td>\n",
       "      <td>NaN</td>\n",
       "      <td>0.0</td>\n",
       "      <td>NaN</td>\n",
       "      <td>NaN</td>\n",
       "      <td>NaN</td>\n",
       "      <td>1.0</td>\n",
       "    </tr>\n",
       "    <tr>\n",
       "      <th>1</th>\n",
       "      <td>/mnt/e/dataset/chexpert/CheXpert-v1.0/train/pa...</td>\n",
       "      <td>Female</td>\n",
       "      <td>87</td>\n",
       "      <td>Frontal</td>\n",
       "      <td>AP</td>\n",
       "      <td>NaN</td>\n",
       "      <td>NaN</td>\n",
       "      <td>-1.0</td>\n",
       "      <td>1.0</td>\n",
       "      <td>NaN</td>\n",
       "      <td>-1.0</td>\n",
       "      <td>-1.0</td>\n",
       "      <td>NaN</td>\n",
       "      <td>-1.0</td>\n",
       "      <td>NaN</td>\n",
       "      <td>-1.0</td>\n",
       "      <td>NaN</td>\n",
       "      <td>1.0</td>\n",
       "      <td>NaN</td>\n",
       "    </tr>\n",
       "    <tr>\n",
       "      <th>2</th>\n",
       "      <td>/mnt/e/dataset/chexpert/CheXpert-v1.0/train/pa...</td>\n",
       "      <td>Female</td>\n",
       "      <td>83</td>\n",
       "      <td>Frontal</td>\n",
       "      <td>AP</td>\n",
       "      <td>NaN</td>\n",
       "      <td>NaN</td>\n",
       "      <td>NaN</td>\n",
       "      <td>1.0</td>\n",
       "      <td>NaN</td>\n",
       "      <td>NaN</td>\n",
       "      <td>-1.0</td>\n",
       "      <td>NaN</td>\n",
       "      <td>NaN</td>\n",
       "      <td>NaN</td>\n",
       "      <td>NaN</td>\n",
       "      <td>NaN</td>\n",
       "      <td>1.0</td>\n",
       "      <td>NaN</td>\n",
       "    </tr>\n",
       "    <tr>\n",
       "      <th>3</th>\n",
       "      <td>/mnt/e/dataset/chexpert/CheXpert-v1.0/train/pa...</td>\n",
       "      <td>Female</td>\n",
       "      <td>83</td>\n",
       "      <td>Lateral</td>\n",
       "      <td>NaN</td>\n",
       "      <td>NaN</td>\n",
       "      <td>NaN</td>\n",
       "      <td>NaN</td>\n",
       "      <td>1.0</td>\n",
       "      <td>NaN</td>\n",
       "      <td>NaN</td>\n",
       "      <td>-1.0</td>\n",
       "      <td>NaN</td>\n",
       "      <td>NaN</td>\n",
       "      <td>NaN</td>\n",
       "      <td>NaN</td>\n",
       "      <td>NaN</td>\n",
       "      <td>1.0</td>\n",
       "      <td>NaN</td>\n",
       "    </tr>\n",
       "    <tr>\n",
       "      <th>4</th>\n",
       "      <td>/mnt/e/dataset/chexpert/CheXpert-v1.0/train/pa...</td>\n",
       "      <td>Male</td>\n",
       "      <td>41</td>\n",
       "      <td>Frontal</td>\n",
       "      <td>AP</td>\n",
       "      <td>NaN</td>\n",
       "      <td>NaN</td>\n",
       "      <td>NaN</td>\n",
       "      <td>NaN</td>\n",
       "      <td>NaN</td>\n",
       "      <td>1.0</td>\n",
       "      <td>NaN</td>\n",
       "      <td>NaN</td>\n",
       "      <td>NaN</td>\n",
       "      <td>0.0</td>\n",
       "      <td>NaN</td>\n",
       "      <td>NaN</td>\n",
       "      <td>NaN</td>\n",
       "      <td>NaN</td>\n",
       "    </tr>\n",
       "  </tbody>\n",
       "</table>\n",
       "</div>"
      ],
      "text/plain": [
       "                                                Path     Sex  Age   \n",
       "0  /mnt/e/dataset/chexpert/CheXpert-v1.0/train/pa...  Female   68  \\\n",
       "1  /mnt/e/dataset/chexpert/CheXpert-v1.0/train/pa...  Female   87   \n",
       "2  /mnt/e/dataset/chexpert/CheXpert-v1.0/train/pa...  Female   83   \n",
       "3  /mnt/e/dataset/chexpert/CheXpert-v1.0/train/pa...  Female   83   \n",
       "4  /mnt/e/dataset/chexpert/CheXpert-v1.0/train/pa...    Male   41   \n",
       "\n",
       "  Frontal/Lateral AP/PA  No Finding  Enlarged Cardiomediastinum  Cardiomegaly   \n",
       "0         Frontal    AP         1.0                         NaN           NaN  \\\n",
       "1         Frontal    AP         NaN                         NaN          -1.0   \n",
       "2         Frontal    AP         NaN                         NaN           NaN   \n",
       "3         Lateral   NaN         NaN                         NaN           NaN   \n",
       "4         Frontal    AP         NaN                         NaN           NaN   \n",
       "\n",
       "   Lung Opacity  Lung Lesion  Edema  Consolidation  Pneumonia  Atelectasis   \n",
       "0           NaN          NaN    NaN            NaN        NaN          NaN  \\\n",
       "1           1.0          NaN   -1.0           -1.0        NaN         -1.0   \n",
       "2           1.0          NaN    NaN           -1.0        NaN          NaN   \n",
       "3           1.0          NaN    NaN           -1.0        NaN          NaN   \n",
       "4           NaN          NaN    1.0            NaN        NaN          NaN   \n",
       "\n",
       "   Pneumothorax  Pleural Effusion  Pleural Other  Fracture  Support Devices  \n",
       "0           0.0               NaN            NaN       NaN              1.0  \n",
       "1           NaN              -1.0            NaN       1.0              NaN  \n",
       "2           NaN               NaN            NaN       1.0              NaN  \n",
       "3           NaN               NaN            NaN       1.0              NaN  \n",
       "4           0.0               NaN            NaN       NaN              NaN  "
      ]
     },
     "execution_count": 21,
     "metadata": {},
     "output_type": "execute_result"
    }
   ],
   "source": [
    "dataset_dir = '/mnt/e/dataset/chexpert/CheXpert-v1.0'\n",
    "mode = 'train'\n",
    "\n",
    "\n",
    "data = pd.read_csv(configs.data_dir)\n",
    "data['Path'] = data['Path'].str.replace(\"CheXpert-v1.0\", configs.dataset_dir)\n",
    "data.head()\n"
   ]
  },
  {
   "cell_type": "code",
   "execution_count": 23,
   "id": "0d483d13",
   "metadata": {},
   "outputs": [
    {
     "data": {
      "text/plain": [
       "'No Finding'"
      ]
     },
     "execution_count": 23,
     "metadata": {},
     "output_type": "execute_result"
    }
   ],
   "source": [
    "data.columns[5]"
   ]
  },
  {
   "cell_type": "code",
   "execution_count": 22,
   "id": "9590312e",
   "metadata": {},
   "outputs": [
    {
     "data": {
      "text/plain": [
       "array([[1.0, nan, nan, ..., nan, nan, 1.0],\n",
       "       [nan, nan, -1.0, ..., nan, 1.0, nan],\n",
       "       [nan, nan, nan, ..., nan, 1.0, nan],\n",
       "       ...,\n",
       "       [nan, nan, nan, ..., nan, nan, nan],\n",
       "       [nan, nan, 1.0, ..., nan, nan, 0.0],\n",
       "       [1.0, nan, nan, ..., nan, nan, nan]], dtype=object)"
      ]
     },
     "execution_count": 22,
     "metadata": {},
     "output_type": "execute_result"
    }
   ],
   "source": [
    "data.values[:, 5:5+14]"
   ]
  },
  {
   "cell_type": "code",
   "execution_count": 19,
   "id": "bd427074",
   "metadata": {},
   "outputs": [
    {
     "data": {
      "text/plain": [
       "['/mnt/e/dataset/chexpert/CheXpert-v1.0/train/patient00001/study1/view1_frontal.jpg',\n",
       " '/mnt/e/dataset/chexpert/CheXpert-v1.0/train/patient00002/study2/view1_frontal.jpg',\n",
       " '/mnt/e/dataset/chexpert/CheXpert-v1.0/train/patient00002/study1/view1_frontal.jpg']"
      ]
     },
     "execution_count": 19,
     "metadata": {},
     "output_type": "execute_result"
    }
   ],
   "source": [
    "images = data.Path.tolist()\n",
    "images[:3]"
   ]
  },
  {
   "cell_type": "code",
   "execution_count": 20,
   "id": "57fc123f",
   "metadata": {
    "scrolled": true
   },
   "outputs": [
    {
     "data": {
      "text/plain": [
       "array([[[  1,   1,   1],\n",
       "        [  1,   1,   1],\n",
       "        [  1,   1,   1],\n",
       "        ...,\n",
       "        [  0,   0,   0],\n",
       "        [  0,   0,   0],\n",
       "        [  0,   0,   0]],\n",
       "\n",
       "       [[  0,   0,   0],\n",
       "        [  0,   0,   0],\n",
       "        [  0,   0,   0],\n",
       "        ...,\n",
       "        [  0,   0,   0],\n",
       "        [  0,   0,   0],\n",
       "        [  0,   0,   0]],\n",
       "\n",
       "       [[  1,   1,   1],\n",
       "        [  1,   1,   1],\n",
       "        [  1,   1,   1],\n",
       "        ...,\n",
       "        [  1,   1,   1],\n",
       "        [  1,   1,   1],\n",
       "        [  1,   1,   1]],\n",
       "\n",
       "       ...,\n",
       "\n",
       "       [[172, 172, 172],\n",
       "        [158, 158, 158],\n",
       "        [152, 152, 152],\n",
       "        ...,\n",
       "        [233, 233, 233],\n",
       "        [200, 200, 200],\n",
       "        [242, 242, 242]],\n",
       "\n",
       "       [[163, 163, 163],\n",
       "        [160, 160, 160],\n",
       "        [137, 137, 137],\n",
       "        ...,\n",
       "        [239, 239, 239],\n",
       "        [231, 231, 231],\n",
       "        [255, 255, 255]],\n",
       "\n",
       "       [[175, 175, 175],\n",
       "        [162, 162, 162],\n",
       "        [130, 130, 130],\n",
       "        ...,\n",
       "        [207, 207, 207],\n",
       "        [205, 205, 205],\n",
       "        [255, 255, 255]]], dtype=uint8)"
      ]
     },
     "execution_count": 20,
     "metadata": {},
     "output_type": "execute_result"
    }
   ],
   "source": [
    "img = cv2.imread(images[0])\n",
    "img"
   ]
  },
  {
   "cell_type": "code",
   "execution_count": null,
   "id": "472f3e64",
   "metadata": {},
   "outputs": [],
   "source": []
  },
  {
   "cell_type": "code",
   "execution_count": null,
   "id": "8a80e1da",
   "metadata": {},
   "outputs": [],
   "source": []
  }
 ],
 "metadata": {
  "kernelspec": {
   "display_name": "tf",
   "language": "python",
   "name": "tf"
  },
  "language_info": {
   "codemirror_mode": {
    "name": "ipython",
    "version": 3
   },
   "file_extension": ".py",
   "mimetype": "text/x-python",
   "name": "python",
   "nbconvert_exporter": "python",
   "pygments_lexer": "ipython3",
   "version": "3.9.16"
  }
 },
 "nbformat": 4,
 "nbformat_minor": 5
}
