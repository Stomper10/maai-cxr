{
 "cells": [
  {
   "cell_type": "code",
   "execution_count": 90,
   "id": "a86989ad",
   "metadata": {},
   "outputs": [],
   "source": [
    "import os\n",
    "import glob \n",
    "import pandas as pd\n",
    "import numpy as np\n",
    "import cv2\n",
    "# import matplotlib.pyplot as plt\n",
    "from tqdm.auto import tqdm as tq\n",
    "from joblib import Parallel, delayed\n",
    "\n",
    "def make_dir(directory:str):\n",
    "    if not os.path.exists(directory):\n",
    "        os.makedirs(directory) \n",
    "        \n",
    "def center_crop(img, target_size=384):\n",
    "    h, w, c = img.shape\n",
    "    if (h<target_size) | (w<target_size):\n",
    "        set_size = max(h, w)\n",
    "    elif h>w:\n",
    "        set_size = w\n",
    "    else:\n",
    "        set_size = h\n",
    "    crop_width = set_size\n",
    "    crop_height = set_size\n",
    "    mid_x, mid_y = w//2, h//2\n",
    "    offset_x, offset_y = crop_width//2, crop_height//2\n",
    "    crop_img = img[mid_y - offset_y:mid_y + offset_y, mid_x - offset_x:mid_x + offset_x]\n",
    "    return crop_img\n",
    "\n",
    "def resize(img, target_size=384):\n",
    "    return cv2.resize(img, (target_size,target_size), interpolation=cv2.INTER_LANCZOS4)\n",
    "\n",
    "\n",
    "if __name__ == '__main__':\n",
    "    \n",
    "    output_folder='/home/n1/gyuseonglee/workspace/datasets/chexpert-processed/train'\n",
    "    make_dir(output_folder)\n",
    "    \n",
    "    def process(img_list, img_idx, target_size=384, output_folder=output_folder, extension=\"jpg\"):\n",
    "        img_path = img_list[img_idx]\n",
    "        img = cv2.imread(img_path)\n",
    "        img = resize(center_crop(img))\n",
    "        filename = f\"{output_folder}/\" + '-'.join(img_path.replace('.jpg', '').split('/')[-3:]) + f'.{extension}'\n",
    "        cv2.imwrite(filename, img.astype(np.uint8))\n",
    "\n",
    "    imgs = pd.read_csv('/home/n1/gyuseonglee/workspace/datasets/chexpert/CheXpert-v1.0/train.csv')\n",
    "    imgs['Path'] = imgs['Path'].str.replace('CheXpert-v1.0', '/home/n1/gyuseonglee/workspace/datasets/chexpert/CheXpert-v1.0', regex=False)\n",
    "    imgs = imgs.Path.values\n",
    "\n",
    "\n",
    "    Parallel(n_jobs=16)(\n",
    "        delayed(process)(imgs, idx) for idx in tq(range(len(imgs)))\n",
    "    )"
   ]
  },
  {
   "cell_type": "code",
   "execution_count": null,
   "id": "88701db7",
   "metadata": {},
   "outputs": [],
   "source": []
  }
 ],
 "metadata": {
  "kernelspec": {
   "display_name": "pl",
   "language": "python",
   "name": "pl"
  },
  "language_info": {
   "codemirror_mode": {
    "name": "ipython",
    "version": 3
   },
   "file_extension": ".py",
   "mimetype": "text/x-python",
   "name": "python",
   "nbconvert_exporter": "python",
   "pygments_lexer": "ipython3",
   "version": "3.10.11"
  }
 },
 "nbformat": 4,
 "nbformat_minor": 5
}
