{
 "cells": [
  {
   "cell_type": "code",
   "execution_count": 37,
   "id": "f8e8f462",
   "metadata": {},
   "outputs": [],
   "source": [
    "import os\n",
    "import glob\n",
    "import cv2\n",
    "from PIL import Image\n",
    "import tensorflow as tf\n",
    "\n",
    "from tqdm.auto import tqdm as tq\n",
    "import pandas as pd\n",
    "import numpy as np\n",
    "import json\n",
    "train_x_dir = '/home/gyuseonglee/workspace/dataset/coco-2017/coco2017/train2017'\n",
    "# os.listdir(train_dir)"
   ]
  },
  {
   "cell_type": "code",
   "execution_count": 52,
   "id": "5e63741b",
   "metadata": {},
   "outputs": [
    {
     "data": {
      "text/plain": [
       "['captions_val2017.json',\n",
       " 'instances_val2017.json',\n",
       " 'person_keypoints_val2017.json',\n",
       " 'captions_train2017.json',\n",
       " 'person_keypoints_train2017.json',\n",
       " 'instances_train2017.json']"
      ]
     },
     "execution_count": 52,
     "metadata": {},
     "output_type": "execute_result"
    }
   ],
   "source": [
    "d = '/home/gyuseonglee/workspace/dataset/coco-2017/coco2017/annotations'\n",
    "os.listdir(d)"
   ]
  },
  {
   "cell_type": "code",
   "execution_count": 3,
   "id": "9d7fe5f4",
   "metadata": {},
   "outputs": [],
   "source": [
    "dataset_dir = '/home/gyuseonglee/workspace/dataset/coco-2017/coco2017/'\n",
    "mode = 'val'"
   ]
  },
  {
   "cell_type": "code",
   "execution_count": 53,
   "id": "b7d7563a",
   "metadata": {},
   "outputs": [],
   "source": [
    "def get_dataset(mode, dataset_dir):\n",
    "    assert mode in ['train', 'val']\n",
    "    \n",
    "    # get X\n",
    "    X = sorted(glob.glob(f\"{dataset_dir}/{mode}2017/*.jpg\"))\n",
    "\n",
    "    # get Y\n",
    "    Y = f\"{dataset_dir}/annotations/instances_{mode}2017.json\"\n",
    "    with open(Y, 'r', encoding='utf-8') as f:\n",
    "        Y = json.load(f)\n",
    "\n",
    "    # get image infomation (height, width)\n",
    "    img_id  = [Y['images'][idx]['id']  for idx in range(len(Y['images']))]\n",
    "    heights = [Y['images'][idx]['height'] for idx in range(len(Y['images']))]\n",
    "    widths  = [Y['images'][idx]['width']  for idx in range(len(Y['images']))]\n",
    "\n",
    "    img_info = pd.DataFrame([img_id, heights, widths]).T\n",
    "    img_info.columns = ['image_id', 'height', 'width']\n",
    "        \n",
    "    # preprocess images\n",
    "    path = X[:]\n",
    "    ids = [X[idx].rsplit('/', 1)[1] for idx in range(len(X))]\n",
    "    X = pd.DataFrame()\n",
    "    X['path'] = path\n",
    "    X['filename'] = ids\n",
    "    X['image_id'] = X['filename'].str.replace(\".jpg\", \"\").astype(int)\n",
    "\n",
    "    labels = [Y['annotations'][idx] for idx in range(len(Y['annotations']))]\n",
    "    labels_image_id = [labels[idx]['image_id'] for idx in range(len(labels))]\n",
    "    labels_bbox = [labels[idx]['bbox'] for idx in range(len(labels))]\n",
    "    labels_category_id = [labels[idx]['category_id'] for idx in range(len(labels))]\n",
    "    \n",
    "    Y = pd.DataFrame([labels_image_id, \n",
    "                      labels_bbox,\n",
    "                      labels_category_id, \n",
    "                     ]).T\n",
    "    Y.columns = ['image_id', 'bbox', 'category_id']\n",
    "    \n",
    "    # merged dataframe\n",
    "    labels = dict()\n",
    "    for idx in (range(len(Y))):\n",
    "        row = Y.iloc[idx]\n",
    "        if row['image_id'] not in labels:\n",
    "            labels[row['image_id']] = [[], []] # bbox, category\n",
    "        else:\n",
    "            labels[row['image_id']][0].append(row['bbox'])\n",
    "            labels[row['image_id']][1].append(row['category_id'])\n",
    "\n",
    "    labels_df = pd.DataFrame(labels).T.reset_index()\n",
    "    labels_df.columns = ['image_id', 'bbox', 'category_id']\n",
    "\n",
    "    dataset = pd.merge(X, img_info, how='left', on='image_id').dropna().reset_index(drop=True)\n",
    "    dataset = pd.merge(dataset, labels_df, how='left', on='image_id').dropna().reset_index(drop=True)\n",
    "    return dataset\n",
    "        \n",
    "    "
   ]
  },
  {
   "cell_type": "code",
   "execution_count": 8,
   "id": "c1fdbd5f",
   "metadata": {
    "scrolled": true
   },
   "outputs": [],
   "source": [
    "train_dataset = get_dataset('train', dataset_dir)\n",
    "val_dataset = get_dataset('val', dataset_dir)"
   ]
  },
  {
   "cell_type": "code",
   "execution_count": 44,
   "id": "1db18e94",
   "metadata": {},
   "outputs": [],
   "source": [
    "class DataLoader(tf.keras.utils.Sequence):\n",
    "    def __init__(self, dataset, batch_size, shuffle=False):\n",
    "        self.X_path = dataset['path'].values\n",
    "        self.X_height = dataset['height'].values\n",
    "        self.X_width  = dataset['width'].values\n",
    "        self.bbox     = dataset['bbox'].values\n",
    "        self.category_id = dataset['category_id'].values\n",
    "        \n",
    "        self.batch_size = batch_size\n",
    "        self.shuffle = shuffle\n",
    "        \n",
    "        self.indices = np.arange(len(self.X_path))\n",
    "        \n",
    "    def on_epoch_end(self):\n",
    "        self.indices = np.arange(len(self.X_path))\n",
    "        if self.shuffle == True:\n",
    "            np.random.shuffle(self.indices)\n",
    "        \n",
    "    def __len__(self):\n",
    "        return int((len(self.x)+self.batch_size -1)//self.batch_size)\n",
    "    \n",
    "    def __getitem__(self, idx):\n",
    "        indices = self.indices[idx*self.batch_size:(idx+1)*self.batch_size]\n",
    "        batch_x = [self.X_path[i] for i in indices]\n",
    "        batch_xh = [self.X_height[i] for i in indices]\n",
    "        batch_xw = [self.X_width[i] for i in indices]        \n",
    "        batch_bbox = [self.bbox[i] for i in indices]\n",
    "        batch_category_id = [self.category_id[i] for i in indices]\n",
    "        \n",
    "        return batch_x, np.array(batch_xh), np.array(batch_xw), batch_bbox, batch_category_id"
   ]
  },
  {
   "cell_type": "code",
   "execution_count": 45,
   "id": "9fa3e2a8",
   "metadata": {},
   "outputs": [],
   "source": [
    "val_loader = DataLoader(\n",
    "    dataset = val_dataset,\n",
    "    batch_size = 4,\n",
    "    shuffle=True\n",
    ")"
   ]
  },
  {
   "cell_type": "code",
   "execution_count": 46,
   "id": "7b8c52b3",
   "metadata": {
    "scrolled": true
   },
   "outputs": [
    {
     "data": {
      "text/plain": [
       "(['/home/gyuseonglee/workspace/dataset/coco-2017/coco2017//val2017/000000000139.jpg',\n",
       "  '/home/gyuseonglee/workspace/dataset/coco-2017/coco2017//val2017/000000000285.jpg',\n",
       "  '/home/gyuseonglee/workspace/dataset/coco-2017/coco2017//val2017/000000000632.jpg',\n",
       "  '/home/gyuseonglee/workspace/dataset/coco-2017/coco2017//val2017/000000000724.jpg'],\n",
       " array([426, 640, 483, 500]),\n",
       " array([640, 586, 640, 375]),\n",
       " [[[7.03, 167.76, 149.32, 94.87],\n",
       "   [557.21, 209.19, 81.35, 78.73],\n",
       "   [358.98, 218.05, 56.0, 102.83],\n",
       "   [290.69, 218.0, 61.83, 98.48],\n",
       "   [413.2, 223.01, 30.17, 81.36],\n",
       "   [317.4, 219.24, 21.58, 11.59],\n",
       "   [412.8, 157.61, 53.05, 138.01],\n",
       "   [384.43, 172.21, 15.12, 35.74],\n",
       "   [512.22, 205.75, 14.74, 15.97],\n",
       "   [493.1, 174.34, 20.29, 108.31],\n",
       "   [604.77, 305.89, 14.34, 45.71],\n",
       "   [613.24, 308.24, 12.88, 46.44],\n",
       "   [447.77, 121.12, 13.97, 21.88],\n",
       "   [549.06, 309.43, 36.68, 89.67],\n",
       "   [350.76, 208.84, 11.37, 22.55],\n",
       "   [412.25, 219.02, 9.63, 12.52],\n",
       "   [241.24, 194.99, 14.22, 17.63],\n",
       "   [336.79, 199.5, 9.73, 16.73],\n",
       "   [321.21, 231.22, 125.56, 88.93]],\n",
       "  [],\n",
       "  [[183.36, 136.56, 60.78, 92.39],\n",
       "   [455.98, 192.5, 8.57, 35.59],\n",
       "   [453.31, 252.97, 8.02, 33.93],\n",
       "   [444.76, 297.63, 5.32, 39.68],\n",
       "   [505.95, 191.02, 12.15, 36.78],\n",
       "   [487.51, 199.33, 7.48, 28.05],\n",
       "   [244.82, 230.45, 104.72, 87.69],\n",
       "   [347.35, 212.37, 82.51, 143.0],\n",
       "   [460.91, 191.67, 29.33, 36.04],\n",
       "   [527.02, 248.57, 24.4, 40.43],\n",
       "   [519.39, 193.43, 4.08, 34.19],\n",
       "   [497.39, 55.43, 4.08, 27.36],\n",
       "   [524.32, 97.38, 2.8, 37.77],\n",
       "   [493.36, 155.72, 32.59, 6.36],\n",
       "   [454.66, 245.27, 48.55, 12.14],\n",
       "   [461.77, 253.68, 8.24, 33.31],\n",
       "   [416, 43, 153, 303]],\n",
       "  [[123.39, 279.44, 21.74, 30.17],\n",
       "   [128.26, 267.21, 12.88, 8.15],\n",
       "   [202.38, 259.9, 19.01, 26.06]]],\n",
       " [[72, 72, 62, 62, 62, 62, 1, 1, 78, 82, 84, 84, 85, 86, 86, 62, 86, 86, 67],\n",
       "  [],\n",
       "  [64, 84, 84, 84, 84, 84, 62, 64, 84, 84, 84, 84, 84, 84, 84, 84, 84],\n",
       "  [8, 3, 13]])"
      ]
     },
     "execution_count": 46,
     "metadata": {},
     "output_type": "execute_result"
    }
   ],
   "source": [
    "val_loader[0]"
   ]
  },
  {
   "cell_type": "code",
   "execution_count": null,
   "id": "72bc94e1",
   "metadata": {},
   "outputs": [],
   "source": []
  }
 ],
 "metadata": {
  "kernelspec": {
   "display_name": "Python 3 (ipykernel)",
   "language": "python",
   "name": "python3"
  },
  "language_info": {
   "codemirror_mode": {
    "name": "ipython",
    "version": 3
   },
   "file_extension": ".py",
   "mimetype": "text/x-python",
   "name": "python",
   "nbconvert_exporter": "python",
   "pygments_lexer": "ipython3",
   "version": "3.9.16"
  }
 },
 "nbformat": 4,
 "nbformat_minor": 5
}
