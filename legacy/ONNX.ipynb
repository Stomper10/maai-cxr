{
 "cells": [
  {
   "cell_type": "markdown",
   "metadata": {
    "id": "nEtKqeNWE08J"
   },
   "source": [
    "#### reference code: https://github.com/omerferhatt/torch2tflite"
   ]
  },
  {
   "cell_type": "markdown",
   "metadata": {
    "id": "KChhZVtJqYJf"
   },
   "source": [
    "## ONNX를 이용하여 pytorch 모델을 tflite 모델로 변환하는 과정을 진행해 본다.\n",
    "### 실습 서버에서는 설치가 잘 안 될 수 있으므로 코랩이나 다른 환경에서 진행"
   ]
  },
  {
   "cell_type": "code",
   "execution_count": null,
   "metadata": {
    "colab": {
     "base_uri": "https://localhost:8080/"
    },
    "id": "GfRfPu0uVxpX",
    "outputId": "1744f646-bce1-4674-b6b6-8c9914ca6efc"
   },
   "outputs": [
    {
     "name": "stdout",
     "output_type": "stream",
     "text": [
      "Uninstalling tensorflow-2.4.1:\n",
      "  Successfully uninstalled tensorflow-2.4.1\n",
      "Uninstalling torch-1.8.1+cu101:\n",
      "  Successfully uninstalled torch-1.8.1+cu101\n"
     ]
    }
   ],
   "source": [
    "!pip uninstall tensorflow -y\n",
    "!pip uninstall torch -y"
   ]
  },
  {
   "cell_type": "code",
   "execution_count": null,
   "metadata": {
    "colab": {
     "base_uri": "https://localhost:8080/",
     "height": 1000
    },
    "id": "GzQCCp9g1Vpt",
    "outputId": "7b70a536-b8a1-4fb2-9452-7ae4b90f6174"
   },
   "outputs": [
    {
     "name": "stdout",
     "output_type": "stream",
     "text": [
      "Collecting tensorflow==2.3.1\n",
      "\u001b[?25l  Downloading https://files.pythonhosted.org/packages/eb/18/374af421dfbe74379a458e58ab40cf46b35c3206ce8e183e28c1c627494d/tensorflow-2.3.1-cp37-cp37m-manylinux2010_x86_64.whl (320.4MB)\n",
      "\u001b[K     |████████████████████████████████| 320.4MB 44kB/s \n",
      "\u001b[?25hRequirement already satisfied: tensorboard<3,>=2.3.0 in /usr/local/lib/python3.7/dist-packages (from tensorflow==2.3.1) (2.4.1)\n",
      "Collecting tensorflow-estimator<2.4.0,>=2.3.0\n",
      "\u001b[?25l  Downloading https://files.pythonhosted.org/packages/e9/ed/5853ec0ae380cba4588eab1524e18ece1583b65f7ae0e97321f5ff9dfd60/tensorflow_estimator-2.3.0-py2.py3-none-any.whl (459kB)\n",
      "\u001b[K     |████████████████████████████████| 460kB 47.9MB/s \n",
      "\u001b[?25hRequirement already satisfied: termcolor>=1.1.0 in /usr/local/lib/python3.7/dist-packages (from tensorflow==2.3.1) (1.1.0)\n",
      "Requirement already satisfied: grpcio>=1.8.6 in /usr/local/lib/python3.7/dist-packages (from tensorflow==2.3.1) (1.32.0)\n",
      "Requirement already satisfied: opt-einsum>=2.3.2 in /usr/local/lib/python3.7/dist-packages (from tensorflow==2.3.1) (3.3.0)\n",
      "Requirement already satisfied: six>=1.12.0 in /usr/local/lib/python3.7/dist-packages (from tensorflow==2.3.1) (1.15.0)\n",
      "Collecting numpy<1.19.0,>=1.16.0\n",
      "\u001b[?25l  Downloading https://files.pythonhosted.org/packages/d6/c6/58e517e8b1fb192725cfa23c01c2e60e4e6699314ee9684a1c5f5c9b27e1/numpy-1.18.5-cp37-cp37m-manylinux1_x86_64.whl (20.1MB)\n",
      "\u001b[K     |████████████████████████████████| 20.1MB 1.4MB/s \n",
      "\u001b[?25hRequirement already satisfied: astunparse==1.6.3 in /usr/local/lib/python3.7/dist-packages (from tensorflow==2.3.1) (1.6.3)\n",
      "Requirement already satisfied: absl-py>=0.7.0 in /usr/local/lib/python3.7/dist-packages (from tensorflow==2.3.1) (0.12.0)\n",
      "Requirement already satisfied: protobuf>=3.9.2 in /usr/local/lib/python3.7/dist-packages (from tensorflow==2.3.1) (3.12.4)\n",
      "Requirement already satisfied: wrapt>=1.11.1 in /usr/local/lib/python3.7/dist-packages (from tensorflow==2.3.1) (1.12.1)\n",
      "Requirement already satisfied: h5py<2.11.0,>=2.10.0 in /usr/local/lib/python3.7/dist-packages (from tensorflow==2.3.1) (2.10.0)\n",
      "Requirement already satisfied: gast==0.3.3 in /usr/local/lib/python3.7/dist-packages (from tensorflow==2.3.1) (0.3.3)\n",
      "Requirement already satisfied: wheel>=0.26 in /usr/local/lib/python3.7/dist-packages (from tensorflow==2.3.1) (0.36.2)\n",
      "Requirement already satisfied: google-pasta>=0.1.8 in /usr/local/lib/python3.7/dist-packages (from tensorflow==2.3.1) (0.2.0)\n",
      "Requirement already satisfied: keras-preprocessing<1.2,>=1.1.1 in /usr/local/lib/python3.7/dist-packages (from tensorflow==2.3.1) (1.1.2)\n",
      "Requirement already satisfied: requests<3,>=2.21.0 in /usr/local/lib/python3.7/dist-packages (from tensorboard<3,>=2.3.0->tensorflow==2.3.1) (2.23.0)\n",
      "Requirement already satisfied: tensorboard-plugin-wit>=1.6.0 in /usr/local/lib/python3.7/dist-packages (from tensorboard<3,>=2.3.0->tensorflow==2.3.1) (1.8.0)\n",
      "Requirement already satisfied: werkzeug>=0.11.15 in /usr/local/lib/python3.7/dist-packages (from tensorboard<3,>=2.3.0->tensorflow==2.3.1) (1.0.1)\n",
      "Requirement already satisfied: google-auth-oauthlib<0.5,>=0.4.1 in /usr/local/lib/python3.7/dist-packages (from tensorboard<3,>=2.3.0->tensorflow==2.3.1) (0.4.4)\n",
      "Requirement already satisfied: setuptools>=41.0.0 in /usr/local/lib/python3.7/dist-packages (from tensorboard<3,>=2.3.0->tensorflow==2.3.1) (54.2.0)\n",
      "Requirement already satisfied: google-auth<2,>=1.6.3 in /usr/local/lib/python3.7/dist-packages (from tensorboard<3,>=2.3.0->tensorflow==2.3.1) (1.28.1)\n",
      "Requirement already satisfied: markdown>=2.6.8 in /usr/local/lib/python3.7/dist-packages (from tensorboard<3,>=2.3.0->tensorflow==2.3.1) (3.3.4)\n",
      "Requirement already satisfied: urllib3!=1.25.0,!=1.25.1,<1.26,>=1.21.1 in /usr/local/lib/python3.7/dist-packages (from requests<3,>=2.21.0->tensorboard<3,>=2.3.0->tensorflow==2.3.1) (1.24.3)\n",
      "Requirement already satisfied: idna<3,>=2.5 in /usr/local/lib/python3.7/dist-packages (from requests<3,>=2.21.0->tensorboard<3,>=2.3.0->tensorflow==2.3.1) (2.10)\n",
      "Requirement already satisfied: certifi>=2017.4.17 in /usr/local/lib/python3.7/dist-packages (from requests<3,>=2.21.0->tensorboard<3,>=2.3.0->tensorflow==2.3.1) (2020.12.5)\n",
      "Requirement already satisfied: chardet<4,>=3.0.2 in /usr/local/lib/python3.7/dist-packages (from requests<3,>=2.21.0->tensorboard<3,>=2.3.0->tensorflow==2.3.1) (3.0.4)\n",
      "Requirement already satisfied: requests-oauthlib>=0.7.0 in /usr/local/lib/python3.7/dist-packages (from google-auth-oauthlib<0.5,>=0.4.1->tensorboard<3,>=2.3.0->tensorflow==2.3.1) (1.3.0)\n",
      "Requirement already satisfied: rsa<5,>=3.1.4; python_version >= \"3.6\" in /usr/local/lib/python3.7/dist-packages (from google-auth<2,>=1.6.3->tensorboard<3,>=2.3.0->tensorflow==2.3.1) (4.7.2)\n",
      "Requirement already satisfied: cachetools<5.0,>=2.0.0 in /usr/local/lib/python3.7/dist-packages (from google-auth<2,>=1.6.3->tensorboard<3,>=2.3.0->tensorflow==2.3.1) (4.2.1)\n",
      "Requirement already satisfied: pyasn1-modules>=0.2.1 in /usr/local/lib/python3.7/dist-packages (from google-auth<2,>=1.6.3->tensorboard<3,>=2.3.0->tensorflow==2.3.1) (0.2.8)\n",
      "Requirement already satisfied: importlib-metadata; python_version < \"3.8\" in /usr/local/lib/python3.7/dist-packages (from markdown>=2.6.8->tensorboard<3,>=2.3.0->tensorflow==2.3.1) (3.10.1)\n",
      "Requirement already satisfied: oauthlib>=3.0.0 in /usr/local/lib/python3.7/dist-packages (from requests-oauthlib>=0.7.0->google-auth-oauthlib<0.5,>=0.4.1->tensorboard<3,>=2.3.0->tensorflow==2.3.1) (3.1.0)\n",
      "Requirement already satisfied: pyasn1>=0.1.3 in /usr/local/lib/python3.7/dist-packages (from rsa<5,>=3.1.4; python_version >= \"3.6\"->google-auth<2,>=1.6.3->tensorboard<3,>=2.3.0->tensorflow==2.3.1) (0.4.8)\n",
      "Requirement already satisfied: typing-extensions>=3.6.4; python_version < \"3.8\" in /usr/local/lib/python3.7/dist-packages (from importlib-metadata; python_version < \"3.8\"->markdown>=2.6.8->tensorboard<3,>=2.3.0->tensorflow==2.3.1) (3.7.4.3)\n",
      "Requirement already satisfied: zipp>=0.5 in /usr/local/lib/python3.7/dist-packages (from importlib-metadata; python_version < \"3.8\"->markdown>=2.6.8->tensorboard<3,>=2.3.0->tensorflow==2.3.1) (3.4.1)\n",
      "\u001b[31mERROR: torchvision 0.9.1+cu101 requires torch==1.8.1, which is not installed.\u001b[0m\n",
      "\u001b[31mERROR: torchtext 0.9.1 requires torch==1.8.1, which is not installed.\u001b[0m\n",
      "\u001b[31mERROR: fastai 1.0.61 requires torch>=1.0.0, which is not installed.\u001b[0m\n",
      "\u001b[31mERROR: datascience 0.10.6 has requirement folium==0.2.1, but you'll have folium 0.8.3 which is incompatible.\u001b[0m\n",
      "\u001b[31mERROR: albumentations 0.1.12 has requirement imgaug<0.2.7,>=0.2.5, but you'll have imgaug 0.2.9 which is incompatible.\u001b[0m\n",
      "Installing collected packages: tensorflow-estimator, numpy, tensorflow\n",
      "  Found existing installation: tensorflow-estimator 2.4.0\n",
      "    Uninstalling tensorflow-estimator-2.4.0:\n",
      "      Successfully uninstalled tensorflow-estimator-2.4.0\n",
      "  Found existing installation: numpy 1.19.5\n",
      "    Uninstalling numpy-1.19.5:\n",
      "      Successfully uninstalled numpy-1.19.5\n",
      "Successfully installed numpy-1.18.5 tensorflow-2.3.1 tensorflow-estimator-2.3.0\n"
     ]
    },
    {
     "data": {
      "application/vnd.colab-display-data+json": {
       "pip_warning": {
        "packages": [
         "numpy"
        ]
       }
      }
     },
     "metadata": {
      "tags": []
     },
     "output_type": "display_data"
    },
    {
     "name": "stdout",
     "output_type": "stream",
     "text": [
      "Collecting tensorflow-addons==0.11.2\n",
      "\u001b[?25l  Downloading https://files.pythonhosted.org/packages/f9/9b/198d3745f937d1ab244eabc4ffdc420f84f2b86d6d8f0937f3f0acc1b258/tensorflow_addons-0.11.2-cp37-cp37m-manylinux2010_x86_64.whl (1.1MB)\n",
      "\r",
      "\u001b[K     |▎                               | 10kB 16.8MB/s eta 0:00:01\r",
      "\u001b[K     |▋                               | 20kB 19.8MB/s eta 0:00:01\r",
      "\u001b[K     |█                               | 30kB 24.5MB/s eta 0:00:01\r",
      "\u001b[K     |█▏                              | 40kB 27.8MB/s eta 0:00:01\r",
      "\u001b[K     |█▌                              | 51kB 25.5MB/s eta 0:00:01\r",
      "\u001b[K     |█▉                              | 61kB 21.1MB/s eta 0:00:01\r",
      "\u001b[K     |██                              | 71kB 21.5MB/s eta 0:00:01\r",
      "\u001b[K     |██▍                             | 81kB 17.7MB/s eta 0:00:01\r",
      "\u001b[K     |██▊                             | 92kB 18.7MB/s eta 0:00:01\r",
      "\u001b[K     |███                             | 102kB 18.6MB/s eta 0:00:01\r",
      "\u001b[K     |███▎                            | 112kB 18.6MB/s eta 0:00:01\r",
      "\u001b[K     |███▋                            | 122kB 18.6MB/s eta 0:00:01\r",
      "\u001b[K     |███▉                            | 133kB 18.6MB/s eta 0:00:01\r",
      "\u001b[K     |████▏                           | 143kB 18.6MB/s eta 0:00:01\r",
      "\u001b[K     |████▌                           | 153kB 18.6MB/s eta 0:00:01\r",
      "\u001b[K     |████▊                           | 163kB 18.6MB/s eta 0:00:01\r",
      "\u001b[K     |█████                           | 174kB 18.6MB/s eta 0:00:01\r",
      "\u001b[K     |█████▍                          | 184kB 18.6MB/s eta 0:00:01\r",
      "\u001b[K     |█████▋                          | 194kB 18.6MB/s eta 0:00:01\r",
      "\u001b[K     |██████                          | 204kB 18.6MB/s eta 0:00:01\r",
      "\u001b[K     |██████▎                         | 215kB 18.6MB/s eta 0:00:01\r",
      "\u001b[K     |██████▌                         | 225kB 18.6MB/s eta 0:00:01\r",
      "\u001b[K     |██████▉                         | 235kB 18.6MB/s eta 0:00:01\r",
      "\u001b[K     |███████▏                        | 245kB 18.6MB/s eta 0:00:01\r",
      "\u001b[K     |███████▌                        | 256kB 18.6MB/s eta 0:00:01\r",
      "\u001b[K     |███████▊                        | 266kB 18.6MB/s eta 0:00:01\r",
      "\u001b[K     |████████                        | 276kB 18.6MB/s eta 0:00:01\r",
      "\u001b[K     |████████▍                       | 286kB 18.6MB/s eta 0:00:01\r",
      "\u001b[K     |████████▋                       | 296kB 18.6MB/s eta 0:00:01\r",
      "\u001b[K     |█████████                       | 307kB 18.6MB/s eta 0:00:01\r",
      "\u001b[K     |█████████▎                      | 317kB 18.6MB/s eta 0:00:01\r",
      "\u001b[K     |█████████▌                      | 327kB 18.6MB/s eta 0:00:01\r",
      "\u001b[K     |█████████▉                      | 337kB 18.6MB/s eta 0:00:01\r",
      "\u001b[K     |██████████▏                     | 348kB 18.6MB/s eta 0:00:01\r",
      "\u001b[K     |██████████▍                     | 358kB 18.6MB/s eta 0:00:01\r",
      "\u001b[K     |██████████▊                     | 368kB 18.6MB/s eta 0:00:01\r",
      "\u001b[K     |███████████                     | 378kB 18.6MB/s eta 0:00:01\r",
      "\u001b[K     |███████████▎                    | 389kB 18.6MB/s eta 0:00:01\r",
      "\u001b[K     |███████████▋                    | 399kB 18.6MB/s eta 0:00:01\r",
      "\u001b[K     |████████████                    | 409kB 18.6MB/s eta 0:00:01\r",
      "\u001b[K     |████████████▏                   | 419kB 18.6MB/s eta 0:00:01\r",
      "\u001b[K     |████████████▌                   | 430kB 18.6MB/s eta 0:00:01\r",
      "\u001b[K     |████████████▉                   | 440kB 18.6MB/s eta 0:00:01\r",
      "\u001b[K     |█████████████                   | 450kB 18.6MB/s eta 0:00:01\r",
      "\u001b[K     |█████████████▍                  | 460kB 18.6MB/s eta 0:00:01\r",
      "\u001b[K     |█████████████▊                  | 471kB 18.6MB/s eta 0:00:01\r",
      "\u001b[K     |██████████████                  | 481kB 18.6MB/s eta 0:00:01\r",
      "\u001b[K     |██████████████▎                 | 491kB 18.6MB/s eta 0:00:01\r",
      "\u001b[K     |██████████████▋                 | 501kB 18.6MB/s eta 0:00:01\r",
      "\u001b[K     |███████████████                 | 512kB 18.6MB/s eta 0:00:01\r",
      "\u001b[K     |███████████████▏                | 522kB 18.6MB/s eta 0:00:01\r",
      "\u001b[K     |███████████████▌                | 532kB 18.6MB/s eta 0:00:01\r",
      "\u001b[K     |███████████████▉                | 542kB 18.6MB/s eta 0:00:01\r",
      "\u001b[K     |████████████████                | 552kB 18.6MB/s eta 0:00:01\r",
      "\u001b[K     |████████████████▍               | 563kB 18.6MB/s eta 0:00:01\r",
      "\u001b[K     |████████████████▊               | 573kB 18.6MB/s eta 0:00:01\r",
      "\u001b[K     |█████████████████               | 583kB 18.6MB/s eta 0:00:01\r",
      "\u001b[K     |█████████████████▎              | 593kB 18.6MB/s eta 0:00:01\r",
      "\u001b[K     |█████████████████▋              | 604kB 18.6MB/s eta 0:00:01\r",
      "\u001b[K     |█████████████████▉              | 614kB 18.6MB/s eta 0:00:01\r",
      "\u001b[K     |██████████████████▏             | 624kB 18.6MB/s eta 0:00:01\r",
      "\u001b[K     |██████████████████▌             | 634kB 18.6MB/s eta 0:00:01\r",
      "\u001b[K     |██████████████████▊             | 645kB 18.6MB/s eta 0:00:01\r",
      "\u001b[K     |███████████████████             | 655kB 18.6MB/s eta 0:00:01\r",
      "\u001b[K     |███████████████████▍            | 665kB 18.6MB/s eta 0:00:01\r",
      "\u001b[K     |███████████████████▋            | 675kB 18.6MB/s eta 0:00:01\r",
      "\u001b[K     |████████████████████            | 686kB 18.6MB/s eta 0:00:01\r",
      "\u001b[K     |████████████████████▎           | 696kB 18.6MB/s eta 0:00:01\r",
      "\u001b[K     |████████████████████▌           | 706kB 18.6MB/s eta 0:00:01\r",
      "\u001b[K     |████████████████████▉           | 716kB 18.6MB/s eta 0:00:01\r",
      "\u001b[K     |█████████████████████▏          | 727kB 18.6MB/s eta 0:00:01\r",
      "\u001b[K     |█████████████████████▍          | 737kB 18.6MB/s eta 0:00:01\r",
      "\u001b[K     |█████████████████████▊          | 747kB 18.6MB/s eta 0:00:01\r",
      "\u001b[K     |██████████████████████          | 757kB 18.6MB/s eta 0:00:01\r",
      "\u001b[K     |██████████████████████▍         | 768kB 18.6MB/s eta 0:00:01\r",
      "\u001b[K     |██████████████████████▋         | 778kB 18.6MB/s eta 0:00:01\r",
      "\u001b[K     |███████████████████████         | 788kB 18.6MB/s eta 0:00:01\r",
      "\u001b[K     |███████████████████████▎        | 798kB 18.6MB/s eta 0:00:01\r",
      "\u001b[K     |███████████████████████▌        | 808kB 18.6MB/s eta 0:00:01\r",
      "\u001b[K     |███████████████████████▉        | 819kB 18.6MB/s eta 0:00:01\r",
      "\u001b[K     |████████████████████████▏       | 829kB 18.6MB/s eta 0:00:01\r",
      "\u001b[K     |████████████████████████▍       | 839kB 18.6MB/s eta 0:00:01\r",
      "\u001b[K     |████████████████████████▊       | 849kB 18.6MB/s eta 0:00:01\r",
      "\u001b[K     |█████████████████████████       | 860kB 18.6MB/s eta 0:00:01\r",
      "\u001b[K     |█████████████████████████▎      | 870kB 18.6MB/s eta 0:00:01\r",
      "\u001b[K     |█████████████████████████▋      | 880kB 18.6MB/s eta 0:00:01\r",
      "\u001b[K     |██████████████████████████      | 890kB 18.6MB/s eta 0:00:01\r",
      "\u001b[K     |██████████████████████████▏     | 901kB 18.6MB/s eta 0:00:01\r",
      "\u001b[K     |██████████████████████████▌     | 911kB 18.6MB/s eta 0:00:01\r",
      "\u001b[K     |██████████████████████████▉     | 921kB 18.6MB/s eta 0:00:01\r",
      "\u001b[K     |███████████████████████████     | 931kB 18.6MB/s eta 0:00:01\r",
      "\u001b[K     |███████████████████████████▍    | 942kB 18.6MB/s eta 0:00:01\r",
      "\u001b[K     |███████████████████████████▊    | 952kB 18.6MB/s eta 0:00:01\r",
      "\u001b[K     |████████████████████████████    | 962kB 18.6MB/s eta 0:00:01\r",
      "\u001b[K     |████████████████████████████▎   | 972kB 18.6MB/s eta 0:00:01\r",
      "\u001b[K     |████████████████████████████▋   | 983kB 18.6MB/s eta 0:00:01\r",
      "\u001b[K     |████████████████████████████▉   | 993kB 18.6MB/s eta 0:00:01\r",
      "\u001b[K     |█████████████████████████████▏  | 1.0MB 18.6MB/s eta 0:00:01\r",
      "\u001b[K     |█████████████████████████████▌  | 1.0MB 18.6MB/s eta 0:00:01\r",
      "\u001b[K     |█████████████████████████████▉  | 1.0MB 18.6MB/s eta 0:00:01\r",
      "\u001b[K     |██████████████████████████████  | 1.0MB 18.6MB/s eta 0:00:01\r",
      "\u001b[K     |██████████████████████████████▍ | 1.0MB 18.6MB/s eta 0:00:01\r",
      "\u001b[K     |██████████████████████████████▊ | 1.1MB 18.6MB/s eta 0:00:01\r",
      "\u001b[K     |███████████████████████████████ | 1.1MB 18.6MB/s eta 0:00:01\r",
      "\u001b[K     |███████████████████████████████▎| 1.1MB 18.6MB/s eta 0:00:01\r",
      "\u001b[K     |███████████████████████████████▋| 1.1MB 18.6MB/s eta 0:00:01\r",
      "\u001b[K     |███████████████████████████████▉| 1.1MB 18.6MB/s eta 0:00:01\r",
      "\u001b[K     |████████████████████████████████| 1.1MB 18.6MB/s \n",
      "\u001b[?25hRequirement already satisfied: typeguard>=2.7 in /usr/local/lib/python3.7/dist-packages (from tensorflow-addons==0.11.2) (2.7.1)\n",
      "Installing collected packages: tensorflow-addons\n",
      "Successfully installed tensorflow-addons-0.11.2\n",
      "Collecting torch==1.7.0\n",
      "\u001b[?25l  Downloading https://files.pythonhosted.org/packages/d9/74/d52c014fbfb50aefc084d2bf5ffaa0a8456f69c586782b59f93ef45e2da9/torch-1.7.0-cp37-cp37m-manylinux1_x86_64.whl (776.7MB)\n",
      "\u001b[K     |████████████████████████████████| 776.8MB 21kB/s \n",
      "\u001b[?25hCollecting dataclasses\n",
      "  Downloading https://files.pythonhosted.org/packages/26/2f/1095cdc2868052dd1e64520f7c0d5c8c550ad297e944e641dbf1ffbb9a5d/dataclasses-0.6-py3-none-any.whl\n",
      "Requirement already satisfied: future in /usr/local/lib/python3.7/dist-packages (from torch==1.7.0) (0.16.0)\n",
      "Requirement already satisfied: typing-extensions in /usr/local/lib/python3.7/dist-packages (from torch==1.7.0) (3.7.4.3)\n",
      "Requirement already satisfied: numpy in /usr/local/lib/python3.7/dist-packages (from torch==1.7.0) (1.18.5)\n",
      "\u001b[31mERROR: torchvision 0.9.1+cu101 has requirement torch==1.8.1, but you'll have torch 1.7.0 which is incompatible.\u001b[0m\n",
      "\u001b[31mERROR: torchtext 0.9.1 has requirement torch==1.8.1, but you'll have torch 1.7.0 which is incompatible.\u001b[0m\n",
      "Installing collected packages: dataclasses, torch\n",
      "Successfully installed dataclasses-0.6 torch-1.7.0\n",
      "Collecting onnx==1.8.0\n",
      "\u001b[?25l  Downloading https://files.pythonhosted.org/packages/93/b6/382e24992ff643fc4293d4e660af982934e3149d2f77354812ca51830638/onnx-1.8.0-cp37-cp37m-manylinux2010_x86_64.whl (7.7MB)\n",
      "\u001b[K     |████████████████████████████████| 7.7MB 9.2MB/s \n",
      "\u001b[?25hRequirement already satisfied: protobuf in /usr/local/lib/python3.7/dist-packages (from onnx==1.8.0) (3.12.4)\n",
      "Requirement already satisfied: six in /usr/local/lib/python3.7/dist-packages (from onnx==1.8.0) (1.15.0)\n",
      "Requirement already satisfied: typing-extensions>=3.6.2.1 in /usr/local/lib/python3.7/dist-packages (from onnx==1.8.0) (3.7.4.3)\n",
      "Requirement already satisfied: numpy in /usr/local/lib/python3.7/dist-packages (from onnx==1.8.0) (1.18.5)\n",
      "Requirement already satisfied: setuptools in /usr/local/lib/python3.7/dist-packages (from protobuf->onnx==1.8.0) (54.2.0)\n",
      "Installing collected packages: onnx\n",
      "Successfully installed onnx-1.8.0\n",
      "Collecting onnx-tf==1.7.0\n",
      "\u001b[?25l  Downloading https://files.pythonhosted.org/packages/c2/3e/199632d4264d8fd23e3ec48d8fca7a6cbc67fb3b81ed396c1180eb2679c3/onnx_tf-1.7.0-py3-none-any.whl (208kB)\n",
      "\u001b[K     |████████████████████████████████| 215kB 16.0MB/s \n",
      "\u001b[?25hRequirement already satisfied: PyYAML in /usr/local/lib/python3.7/dist-packages (from onnx-tf==1.7.0) (3.13)\n",
      "Requirement already satisfied: onnx>=1.7.0 in /usr/local/lib/python3.7/dist-packages (from onnx-tf==1.7.0) (1.8.0)\n",
      "Requirement already satisfied: tensorflow-addons in /usr/local/lib/python3.7/dist-packages (from onnx-tf==1.7.0) (0.11.2)\n",
      "Requirement already satisfied: typing-extensions>=3.6.2.1 in /usr/local/lib/python3.7/dist-packages (from onnx>=1.7.0->onnx-tf==1.7.0) (3.7.4.3)\n",
      "Requirement already satisfied: protobuf in /usr/local/lib/python3.7/dist-packages (from onnx>=1.7.0->onnx-tf==1.7.0) (3.12.4)\n",
      "Requirement already satisfied: six in /usr/local/lib/python3.7/dist-packages (from onnx>=1.7.0->onnx-tf==1.7.0) (1.15.0)\n",
      "Requirement already satisfied: numpy in /usr/local/lib/python3.7/dist-packages (from onnx>=1.7.0->onnx-tf==1.7.0) (1.18.5)\n",
      "Requirement already satisfied: typeguard>=2.7 in /usr/local/lib/python3.7/dist-packages (from tensorflow-addons->onnx-tf==1.7.0) (2.7.1)\n",
      "Requirement already satisfied: setuptools in /usr/local/lib/python3.7/dist-packages (from protobuf->onnx>=1.7.0->onnx-tf==1.7.0) (54.2.0)\n",
      "Installing collected packages: onnx-tf\n",
      "Successfully installed onnx-tf-1.7.0\n"
     ]
    }
   ],
   "source": [
    "! pip install -q tf-nightly\n",
    "!pip install tensorflow-addons==0.11.2\n",
    "!pip install torch==1.7.0\n",
    "!pip install onnx==1.8.0\n",
    "!pip install onnx-tf==1.7.0"
   ]
  },
  {
   "cell_type": "markdown",
   "metadata": {
    "id": "BE7HlLgTFwIU"
   },
   "source": [
    "### install 후에는 kernel restart 할 것"
   ]
  },
  {
   "cell_type": "code",
   "execution_count": null,
   "metadata": {
    "colab": {
     "base_uri": "https://localhost:8080/"
    },
    "id": "zlayp0ZX1WVn",
    "outputId": "d1130306-8bd3-4622-e570-eebe253ec675"
   },
   "outputs": [
    {
     "name": "stderr",
     "output_type": "stream",
     "text": [
      "/usr/local/lib/python3.7/dist-packages/tensorflow_addons/utils/ensure_tf_install.py:44: UserWarning: You are currently using a nightly version of TensorFlow (2.6.0-dev20210418). \n",
      "TensorFlow Addons offers no support for the nightly versions of TensorFlow. Some things might work, some other might not. \n",
      "If you encounter a bug, do not file an issue on GitHub.\n",
      "  UserWarning,\n"
     ]
    }
   ],
   "source": [
    "import os\n",
    "import shutil\n",
    "import sys\n",
    "\n",
    "import cv2\n",
    "import numpy as np\n",
    "import onnx\n",
    "import tensorflow as tf\n",
    "import torch\n",
    "from PIL import Image\n",
    "from onnx_tf.backend import prepare\n",
    "from torchvision import transforms"
   ]
  },
  {
   "cell_type": "markdown",
   "metadata": {
    "id": "2P5PXo87FPe4"
   },
   "source": [
    "Helper Functions"
   ]
  },
  {
   "cell_type": "code",
   "execution_count": null,
   "metadata": {
    "id": "VrA2miOI3pYE"
   },
   "outputs": [],
   "source": [
    "def get_example_input(image_file):\n",
    "    \"\"\"\n",
    "    Loads image from disk and converts to compatible shape.\n",
    "    :param image_file: Path to single image file\n",
    "    :return: Original image, numpy.ndarray instance image, torch.Tensor image\n",
    "    \"\"\"\n",
    "    transform = transforms.Compose([\n",
    "        transforms.Resize((224, 224)),\n",
    "        transforms.ToTensor(),\n",
    "    ])\n",
    "\n",
    "    image = cv2.imread(image_file)\n",
    "    image = cv2.cvtColor(image, cv2.COLOR_BGR2RGB)\n",
    "    pil_img = Image.fromarray(image)\n",
    "    torch_img = transform(pil_img)\n",
    "    torch_img = torch_img.unsqueeze(0)\n",
    "    torch_img = torch_img.to(torch.device(\"cpu\"))\n",
    "\n",
    "    return image, torch_img.numpy(), torch_img\n"
   ]
  },
  {
   "cell_type": "code",
   "execution_count": null,
   "metadata": {
    "id": "pDdY1wsj3pbX"
   },
   "outputs": [],
   "source": [
    "def torch_to_onnx(torch_path, onnx_path, image_path):\n",
    "    \"\"\"\n",
    "    Converts PyTorch model file to ONNX with usable op-set\n",
    "    :param torch_path: Torch model path to load\n",
    "    :param onnx_path: ONNX model path to save\n",
    "    :param image_path: Path of test image to use in export progress\n",
    "    \"\"\"\n",
    "    pytorch_model = get_torch_model(torch_path)\n",
    "    image, tf_lite_image, torch_image = get_example_input(image_path)\n",
    "\n",
    "    torch.onnx.export(\n",
    "        model=pytorch_model,\n",
    "        args=torch_image,\n",
    "        f=onnx_path,\n",
    "        verbose=False,\n",
    "        export_params=True,\n",
    "        do_constant_folding=False,  # fold constant values for optimization\n",
    "        input_names=['input'],\n",
    "        opset_version=10,\n",
    "        output_names=['output'])"
   ]
  },
  {
   "cell_type": "code",
   "execution_count": null,
   "metadata": {
    "id": "OtalJm1R3peW"
   },
   "outputs": [],
   "source": [
    "def onnx_to_tf(onnx_path, tf_path):\n",
    "    \"\"\"\n",
    "    Converts ONNX model to TF 2.X saved file\n",
    "    :param onnx_path: ONNX model path to load\n",
    "    :param tf_path: TF path to save\n",
    "    \"\"\"\n",
    "    onnx_model = onnx.load(onnx_path)\n",
    "    onnx.checker.check_model(onnx_model)  # Checks signature\n",
    "    tf_rep = prepare(onnx_model)  # Prepare TF representation\n",
    "    tf_rep.export_graph(tf_path)  # Export the model"
   ]
  },
  {
   "cell_type": "code",
   "execution_count": null,
   "metadata": {
    "id": "brjtCei13phJ"
   },
   "outputs": [],
   "source": [
    "def tf_to_tf_lite(tf_path, tf_lite_path):\n",
    "    \"\"\"\n",
    "    Converts TF saved model into TFLite model\n",
    "    :param tf_path: TF saved model path to load\n",
    "    :param tf_lite_path: TFLite model path to save\n",
    "    \"\"\"\n",
    "    converter = tf.lite.TFLiteConverter.from_saved_model(tf_path)  # Path to the SavedModel directory\n",
    "    tflite_model = converter.convert()  # Creates converter instance\n",
    "    with open(tf_lite_path, 'wb') as f:\n",
    "        f.write(tflite_model)"
   ]
  },
  {
   "cell_type": "code",
   "execution_count": null,
   "metadata": {
    "id": "-J3XOkew1WdI"
   },
   "outputs": [],
   "source": [
    "def get_torch_model(model_path):\n",
    "    \"\"\"\n",
    "    Loads state-dict into model and creates an instance\n",
    "    :param model_path: State-dict path to load PyTorch model with pre-trained weights\n",
    "    :return: PyTorch model instance\n",
    "    \"\"\"\n",
    "    model = torch.load(model_path, map_location='cpu')\n",
    "    return model"
   ]
  },
  {
   "cell_type": "code",
   "execution_count": null,
   "metadata": {
    "id": "Xg8QvvYt1Wfj"
   },
   "outputs": [],
   "source": [
    "def get_tf_lite_model(model_path):\n",
    "    \"\"\"\n",
    "    Creates an instance of TFLite CPU interpreter\n",
    "    :param model_path: TFLite model path to initialize\n",
    "    :return: TFLite interpreter\n",
    "    \"\"\"\n",
    "    interpret = tf.lite.Interpreter(model_path)\n",
    "    interpret.allocate_tensors()\n",
    "    return interpret"
   ]
  },
  {
   "cell_type": "code",
   "execution_count": null,
   "metadata": {
    "id": "1ih3Z2KR4ehX"
   },
   "outputs": [],
   "source": [
    "def predict_torch(model, image):\n",
    "    \"\"\"\n",
    "    Torch model prediction (forward propagate)\n",
    "    :param model: PyTorch model\n",
    "    :param image: Input image\n",
    "    :return: Numpy array with logits\n",
    "    \"\"\"\n",
    "    return model(image).data.cpu().numpy()"
   ]
  },
  {
   "cell_type": "code",
   "execution_count": null,
   "metadata": {
    "id": "L6eZll014ejz"
   },
   "outputs": [],
   "source": [
    "def predict_tf_lite(model, image):\n",
    "    \"\"\"\n",
    "    TFLite model prediction (forward propagate)\n",
    "    :param model: TFLite interpreter\n",
    "    :param image: Input image\n",
    "    :return: Numpy array with logits\n",
    "    \"\"\"\n",
    "    input_details = model.get_input_details()\n",
    "    output_details = model.get_output_details()\n",
    "    model.set_tensor(input_details[0]['index'], image)\n",
    "    model.invoke()\n",
    "    tf_lite_output = model.get_tensor(output_details[0]['index'])\n",
    "    return tf_lite_output"
   ]
  },
  {
   "cell_type": "code",
   "execution_count": null,
   "metadata": {
    "id": "T2sWrkxf4eod"
   },
   "outputs": [],
   "source": [
    "def calc_error(res1, res2, verbose=False):\n",
    "    \"\"\"\n",
    "    Calculates specified error between two results. In here Mean-Square-Error and Mean-Absolute-Error calculated\"\n",
    "    :param res1: First result\n",
    "    :param res2: Second result\n",
    "    :param verbose: Print loss results\n",
    "    :return: Loss metrics as a dictionary\n",
    "    \"\"\"\n",
    "    mse = ((res1 - res2) ** 2).mean(axis=None)\n",
    "    mae = np.abs(res1 - res2).mean(axis=None)\n",
    "    metrics = {'mse': mse, 'mae': mae}\n",
    "    if verbose:\n",
    "        print(f\"Mean-Square-Error between predictions: {metrics['mse']}\")\n",
    "        print(f\"Mean-Absolute-Error between predictions: {metrics['mae']}\\n\")\n",
    "    return metrics"
   ]
  },
  {
   "cell_type": "code",
   "execution_count": null,
   "metadata": {
    "id": "GhTOPwqB4eql"
   },
   "outputs": [],
   "source": [
    "def convert(torch_model_path, tf_lite_model_path, image_path):\n",
    "    if os.path.exists('output'):\n",
    "        shutil.rmtree('output')\n",
    "        os.mkdir('output')\n",
    "    else:\n",
    "        os.mkdir('output')\n",
    "    ONNX_PATH = \"output/onnx_model.onnx\"\n",
    "    TF_PATH = \"output/tf_model\"\n",
    "\n",
    "    try:\n",
    "        torch_to_onnx(torch_path=torch_model_path, onnx_path=ONNX_PATH, image_path=image_path)\n",
    "        print('\\n\\nTorch to ONNX converted!\\n\\n')\n",
    "    except Exception as e:\n",
    "        print(e)\n",
    "        sys.exit(1)\n",
    "    try:\n",
    "        onnx_to_tf(onnx_path=ONNX_PATH, tf_path=TF_PATH)\n",
    "        print('\\n\\nONNX to TF converted!\\n\\n')\n",
    "    except Exception as e:\n",
    "        print(e)\n",
    "        sys.exit(1)\n",
    "    try:\n",
    "        tf_to_tf_lite(tf_path=TF_PATH, tf_lite_path=tf_lite_model_path)\n",
    "        print('\\n\\nTF to TFLite converted!\\n\\n')\n",
    "    except Exception as e:\n",
    "        print(e)\n",
    "        sys.exit(1)"
   ]
  },
  {
   "cell_type": "code",
   "execution_count": null,
   "metadata": {
    "id": "w6VxoEsM58lL"
   },
   "outputs": [],
   "source": [
    "def init_models(torch_model_path, tf_lite_model_path):\n",
    "    \"\"\"\n",
    "    Initialize the Torch and TFLite models\n",
    "    :param torch_model_path: Path to Torch model\n",
    "    :param tf_lite_model_path: Path to TFLite model\n",
    "    :return: CPU initialized models\n",
    "    \"\"\"\n",
    "    torch_model = get_torch_model(torch_model_path)\n",
    "    tf_lite_model = get_tf_lite_model(tf_lite_model_path)\n",
    "    return torch_model, tf_lite_model"
   ]
  },
  {
   "cell_type": "markdown",
   "metadata": {
    "id": "n5cI40Vj9PBp"
   },
   "source": [
    "변환할 pytorch model 생성"
   ]
  },
  {
   "cell_type": "code",
   "execution_count": null,
   "metadata": {
    "colab": {
     "base_uri": "https://localhost:8080/",
     "height": 84,
     "referenced_widgets": [
      "70075df57cd84d9eb87c1f78f64458c0",
      "e0c4894e17224ff3bc8c594b402a4a95",
      "0457dfcb1c6747848810b615b7bf082f",
      "2f4fd9a51c1847d2bd4ccb848d46e9ac",
      "d5029c28d5a6459fb308aaf61a617ea8",
      "1a956c8af52b406798bafae8f7383881",
      "c8daf4f51cef419aa32b064878923fe0",
      "0db60b8edcae40cbb5d4a27c82ffdddc"
     ]
    },
    "id": "zRfa6kas58t8",
    "outputId": "106b3012-ea23-4407-ee83-23ccd9557766"
   },
   "outputs": [
    {
     "name": "stderr",
     "output_type": "stream",
     "text": [
      "Downloading: \"https://download.pytorch.org/models/resnet50-19c8e357.pth\" to /root/.cache/torch/hub/checkpoints/resnet50-19c8e357.pth\n"
     ]
    },
    {
     "data": {
      "application/vnd.jupyter.widget-view+json": {
       "model_id": "70075df57cd84d9eb87c1f78f64458c0",
       "version_major": 2,
       "version_minor": 0
      },
      "text/plain": [
       "HBox(children=(FloatProgress(value=0.0, max=102502400.0), HTML(value='')))"
      ]
     },
     "metadata": {
      "tags": []
     },
     "output_type": "display_data"
    },
    {
     "name": "stdout",
     "output_type": "stream",
     "text": [
      "\n"
     ]
    }
   ],
   "source": [
    "import torchvision.models as models\n",
    "resnet50 = models.resnet50(pretrained=True)\n",
    "torch.save(resnet50, 'torch_model.pt')"
   ]
  },
  {
   "cell_type": "markdown",
   "metadata": {
    "id": "f4IBNvbv9Tvj"
   },
   "source": [
    "예시 input image"
   ]
  },
  {
   "cell_type": "code",
   "execution_count": null,
   "metadata": {
    "colab": {
     "base_uri": "https://localhost:8080/",
     "height": 241
    },
    "id": "Bsiqi6kW5daR",
    "outputId": "4b190590-5c12-4be6-fa96-83383b5d6b83"
   },
   "outputs": [
    {
     "data": {
      "image/png": "[encoded data removed]",
      "text/plain": [
       "<PIL.Image.Image image mode=RGB size=224x224 at 0x7FA0F1AAB4D0>"
      ]
     },
     "metadata": {
      "tags": []
     },
     "output_type": "display_data"
    }
   ],
   "source": [
    "from tensorflow.keras.preprocessing import image\n",
    "from IPython.display import display\n",
    "\n",
    "url = \"https://cdn.education.com/files/526001_527000/526114/file_526114.jpg\"\n",
    "os.system(\"curl \" + url + \" > balloon.jpg\")\n",
    "img_path = 'balloon.jpg'\n",
    "img = image.load_img(img_path, target_size=(224, 224))\n",
    "display(img)"
   ]
  },
  {
   "cell_type": "markdown",
   "metadata": {
    "id": "NZp69h-E9XG5"
   },
   "source": [
    "변환(에러 나면 다시 셀 실행해보기)"
   ]
  },
  {
   "cell_type": "code",
   "execution_count": null,
   "metadata": {
    "colab": {
     "base_uri": "https://localhost:8080/"
    },
    "id": "-HtRqFj_4etD",
    "outputId": "cf6f2a95-98c3-427e-e523-e4866ef65d4a"
   },
   "outputs": [
    {
     "name": "stdout",
     "output_type": "stream",
     "text": [
      "\n",
      "\n",
      "Torch to ONNX converted!\n",
      "\n",
      "\n"
     ]
    },
    {
     "name": "stderr",
     "output_type": "stream",
     "text": [
      "WARNING:absl:Found untraced functions such as gen_tensor_dict while saving (showing 1 of 1). These functions will not be directly callable after loading.\n"
     ]
    },
    {
     "name": "stdout",
     "output_type": "stream",
     "text": [
      "INFO:tensorflow:Assets written to: output/tf_model/assets\n"
     ]
    },
    {
     "name": "stderr",
     "output_type": "stream",
     "text": [
      "INFO:tensorflow:Assets written to: output/tf_model/assets\n"
     ]
    },
    {
     "name": "stdout",
     "output_type": "stream",
     "text": [
      "\n",
      "\n",
      "ONNX to TF converted!\n",
      "\n",
      "\n",
      "\n",
      "\n",
      "TF to TFLite converted!\n",
      "\n",
      "\n"
     ]
    }
   ],
   "source": [
    "convert(torch_model_path='torch_model.pt',\n",
    "        tf_lite_model_path='tflite_model.tflite',\n",
    "        image_path=img_path)"
   ]
  },
  {
   "cell_type": "markdown",
   "metadata": {
    "id": "rs0PtH17GNaL"
   },
   "source": [
    "pytorch 모델과 tflite 모델의 output 에러 측정"
   ]
  },
  {
   "cell_type": "code",
   "execution_count": null,
   "metadata": {
    "colab": {
     "base_uri": "https://localhost:8080/"
    },
    "id": "YOKWnwr-49O-",
    "outputId": "7851eadd-440c-4db6-ba6b-4c59ac05ffbb"
   },
   "outputs": [
    {
     "name": "stdout",
     "output_type": "stream",
     "text": [
      "Mean-Square-Error between predictions: 3.5699117183685303\n",
      "Mean-Absolute-Error between predictions: 1.4785114526748657\n",
      "\n"
     ]
    }
   ],
   "source": [
    "original_image, tf_lite_image, torch_image = get_example_input(img_path)\n",
    "torch_model, tf_lite_model = init_models('torch_model.pt', 'tflite_model.tflite')\n",
    "\n",
    "tf_lite_output = predict_tf_lite(tf_lite_model, tf_lite_image)\n",
    "torch_output = predict_torch(torch_model, torch_image)\n",
    "# Calculates loss metrics of outputs between two model\n",
    "_ = calc_error(tf_lite_output, torch_output, verbose=True)"
   ]
  },
  {
   "cell_type": "markdown",
   "metadata": {
    "id": "fAi8aWPCGt2x"
   },
   "source": [
    "tflite 모델 output 확인"
   ]
  },
  {
   "cell_type": "code",
   "execution_count": null,
   "metadata": {
    "colab": {
     "base_uri": "https://localhost:8080/"
    },
    "id": "kPMm3qT2GXy8",
    "outputId": "6873e375-3509-4d92-e7c0-6f235d892ebf"
   },
   "outputs": [
    {
     "name": "stdout",
     "output_type": "stream",
     "text": [
      "Downloading data from https://storage.googleapis.com/download.tensorflow.org/data/imagenet_class_index.json\n",
      "40960/35363 [==================================] - 0s 0us/step\n",
      "Predicted: [('n02782093', 'balloon', 11.793416), ('n03929660', 'pick', 8.082341), ('n03291819', 'envelope', 8.027838)]\n"
     ]
    }
   ],
   "source": [
    "from tensorflow.keras.applications.resnet50 import decode_predictions\n",
    "print('Predicted:', decode_predictions(tf_lite_output, top=3)[0])"
   ]
  }
 ],
 "metadata": {
  "colab": {
   "collapsed_sections": [],
   "name": "ONNX.ipynb",
   "provenance": [],
   "toc_visible": true
  },
  "kernelspec": {
   "display_name": "Python 3",
   "language": "python",
   "name": "python3"
  },
  "language_info": {
   "codemirror_mode": {
    "name": "ipython",
    "version": 3
   },
   "file_extension": ".py",
   "mimetype": "text/x-python",
   "name": "python",
   "nbconvert_exporter": "python",
   "pygments_lexer": "ipython3",
   "version": "3.7.6"
  },
  "widgets": {
   "application/vnd.jupyter.widget-state+json": {
    "0457dfcb1c6747848810b615b7bf082f": {
     "model_module": "@jupyter-widgets/controls",
     "model_name": "FloatProgressModel",
     "state": {
      "_dom_classes": [],
      "_model_module": "@jupyter-widgets/controls",
      "_model_module_version": "1.5.0",
      "_model_name": "FloatProgressModel",
      "_view_count": null,
      "_view_module": "@jupyter-widgets/controls",
      "_view_module_version": "1.5.0",
      "_view_name": "ProgressView",
      "bar_style": "success",
      "description": "100%",
      "description_tooltip": null,
      "layout": "IPY_MODEL_1a956c8af52b406798bafae8f7383881",
      "max": 102502400,
      "min": 0,
      "orientation": "horizontal",
      "style": "IPY_MODEL_d5029c28d5a6459fb308aaf61a617ea8",
      "value": 102502400
     }
    },
    "0db60b8edcae40cbb5d4a27c82ffdddc": {
     "model_module": "@jupyter-widgets/base",
     "model_name": "LayoutModel",
     "state": {
      "_model_module": "@jupyter-widgets/base",
      "_model_module_version": "1.2.0",
      "_model_name": "LayoutModel",
      "_view_count": null,
      "_view_module": "@jupyter-widgets/base",
      "_view_module_version": "1.2.0",
      "_view_name": "LayoutView",
      "align_content": null,
      "align_items": null,
      "align_self": null,
      "border": null,
      "bottom": null,
      "display": null,
      "flex": null,
      "flex_flow": null,
      "grid_area": null,
      "grid_auto_columns": null,
      "grid_auto_flow": null,
      "grid_auto_rows": null,
      "grid_column": null,
      "grid_gap": null,
      "grid_row": null,
      "grid_template_areas": null,
      "grid_template_columns": null,
      "grid_template_rows": null,
      "height": null,
      "justify_content": null,
      "justify_items": null,
      "left": null,
      "margin": null,
      "max_height": null,
      "max_width": null,
      "min_height": null,
      "min_width": null,
      "object_fit": null,
      "object_position": null,
      "order": null,
      "overflow": null,
      "overflow_x": null,
      "overflow_y": null,
      "padding": null,
      "right": null,
      "top": null,
      "visibility": null,
      "width": null
     }
    },
    "1a956c8af52b406798bafae8f7383881": {
     "model_module": "@jupyter-widgets/base",
     "model_name": "LayoutModel",
     "state": {
      "_model_module": "@jupyter-widgets/base",
      "_model_module_version": "1.2.0",
      "_model_name": "LayoutModel",
      "_view_count": null,
      "_view_module": "@jupyter-widgets/base",
      "_view_module_version": "1.2.0",
      "_view_name": "LayoutView",
      "align_content": null,
      "align_items": null,
      "align_self": null,
      "border": null,
      "bottom": null,
      "display": null,
      "flex": null,
      "flex_flow": null,
      "grid_area": null,
      "grid_auto_columns": null,
      "grid_auto_flow": null,
      "grid_auto_rows": null,
      "grid_column": null,
      "grid_gap": null,
      "grid_row": null,
      "grid_template_areas": null,
      "grid_template_columns": null,
      "grid_template_rows": null,
      "height": null,
      "justify_content": null,
      "justify_items": null,
      "left": null,
      "margin": null,
      "max_height": null,
      "max_width": null,
      "min_height": null,
      "min_width": null,
      "object_fit": null,
      "object_position": null,
      "order": null,
      "overflow": null,
      "overflow_x": null,
      "overflow_y": null,
      "padding": null,
      "right": null,
      "top": null,
      "visibility": null,
      "width": null
     }
    },
    "2f4fd9a51c1847d2bd4ccb848d46e9ac": {
     "model_module": "@jupyter-widgets/controls",
     "model_name": "HTMLModel",
     "state": {
      "_dom_classes": [],
      "_model_module": "@jupyter-widgets/controls",
      "_model_module_version": "1.5.0",
      "_model_name": "HTMLModel",
      "_view_count": null,
      "_view_module": "@jupyter-widgets/controls",
      "_view_module_version": "1.5.0",
      "_view_name": "HTMLView",
      "description": "",
      "description_tooltip": null,
      "layout": "IPY_MODEL_0db60b8edcae40cbb5d4a27c82ffdddc",
      "placeholder": "​",
      "style": "IPY_MODEL_c8daf4f51cef419aa32b064878923fe0",
      "value": " 97.8M/97.8M [00:05&lt;00:00, 18.5MB/s]"
     }
    },
    "70075df57cd84d9eb87c1f78f64458c0": {
     "model_module": "@jupyter-widgets/controls",
     "model_name": "HBoxModel",
     "state": {
      "_dom_classes": [],
      "_model_module": "@jupyter-widgets/controls",
      "_model_module_version": "1.5.0",
      "_model_name": "HBoxModel",
      "_view_count": null,
      "_view_module": "@jupyter-widgets/controls",
      "_view_module_version": "1.5.0",
      "_view_name": "HBoxView",
      "box_style": "",
      "children": [
       "IPY_MODEL_0457dfcb1c6747848810b615b7bf082f",
       "IPY_MODEL_2f4fd9a51c1847d2bd4ccb848d46e9ac"
      ],
      "layout": "IPY_MODEL_e0c4894e17224ff3bc8c594b402a4a95"
     }
    },
    "c8daf4f51cef419aa32b064878923fe0": {
     "model_module": "@jupyter-widgets/controls",
     "model_name": "DescriptionStyleModel",
     "state": {
      "_model_module": "@jupyter-widgets/controls",
      "_model_module_version": "1.5.0",
      "_model_name": "DescriptionStyleModel",
      "_view_count": null,
      "_view_module": "@jupyter-widgets/base",
      "_view_module_version": "1.2.0",
      "_view_name": "StyleView",
      "description_width": ""
     }
    },
    "d5029c28d5a6459fb308aaf61a617ea8": {
     "model_module": "@jupyter-widgets/controls",
     "model_name": "ProgressStyleModel",
     "state": {
      "_model_module": "@jupyter-widgets/controls",
      "_model_module_version": "1.5.0",
      "_model_name": "ProgressStyleModel",
      "_view_count": null,
      "_view_module": "@jupyter-widgets/base",
      "_view_module_version": "1.2.0",
      "_view_name": "StyleView",
      "bar_color": null,
      "description_width": "initial"
     }
    },
    "e0c4894e17224ff3bc8c594b402a4a95": {
     "model_module": "@jupyter-widgets/base",
     "model_name": "LayoutModel",
     "state": {
      "_model_module": "@jupyter-widgets/base",
      "_model_module_version": "1.2.0",
      "_model_name": "LayoutModel",
      "_view_count": null,
      "_view_module": "@jupyter-widgets/base",
      "_view_module_version": "1.2.0",
      "_view_name": "LayoutView",
      "align_content": null,
      "align_items": null,
      "align_self": null,
      "border": null,
      "bottom": null,
      "display": null,
      "flex": null,
      "flex_flow": null,
      "grid_area": null,
      "grid_auto_columns": null,
      "grid_auto_flow": null,
      "grid_auto_rows": null,
      "grid_column": null,
      "grid_gap": null,
      "grid_row": null,
      "grid_template_areas": null,
      "grid_template_columns": null,
      "grid_template_rows": null,
      "height": null,
      "justify_content": null,
      "justify_items": null,
      "left": null,
      "margin": null,
      "max_height": null,
      "max_width": null,
      "min_height": null,
      "min_width": null,
      "object_fit": null,
      "object_position": null,
      "order": null,
      "overflow": null,
      "overflow_x": null,
      "overflow_y": null,
      "padding": null,
      "right": null,
      "top": null,
      "visibility": null,
      "width": null
     }
    }
   }
  }
 },
 "nbformat": 4,
 "nbformat_minor": 1
}
